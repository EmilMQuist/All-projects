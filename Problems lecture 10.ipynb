{
 "cells": [
  {
   "cell_type": "markdown",
   "metadata": {},
   "source": [
    "# Problems solar energy unit 10"
   ]
  },
  {
   "cell_type": "markdown",
   "metadata": {},
   "source": [
    "This jupyter notebook is a try at solving the solar problems using this format. It'll probaly go horribly wrong. \n",
    "\n",
    "\n",
    "First up, we import the data we are given in a csv file. \n",
    "- Hourly energy demand for a house in aarhus \n",
    "- Electricity price in the wholesale market for DK1\n",
    "- Capacity factors for a solar PV installation with optimal tilt angle and orientation in Aarhus"
   ]
  },
  {
   "cell_type": "code",
   "execution_count": 13,
   "metadata": {},
   "outputs": [
    {
     "name": "stdout",
     "output_type": "stream",
     "text": [
      "         Date    Hours     DK1     DK2  House Demand (kWh)  \\\n",
      "0  01/01/2019  00 - 01  211.48  211.48                0.18   \n",
      "1  01/01/2019  01 - 02   75.20   75.20                0.17   \n",
      "2  01/01/2019  02 - 03  -30.47  -30.47                0.20   \n",
      "\n",
      "   Capacity factor solar  \n",
      "0                    0.0  \n",
      "1                    0.0  \n",
      "2                    0.0  \n"
     ]
    }
   ],
   "source": [
    "#Using pandas to import the cvs file\n",
    "import pandas as pd\n",
    "#Plotting using the matplotlib and its subpackage pyplot\n",
    "import matplotlib.pyplot as plt\n",
    "#Using numpy to manipulate and create arrays \n",
    "import numpy as numpy\n",
    "\n",
    "#Closing all prior plots \n",
    "plt.close('all')\n",
    "\n",
    "#Importing the csv file  \n",
    "Data = pd.read_csv('electricity_demand_and_price_data.csv',sep=',',encoding= 'unicode_escape')\n",
    "ElSpot_DK1 = Data['DK1'].tolist()\n",
    "ElSpot_DK2 = Data['DK2'].tolist()\n",
    "Date = Data['Date'].tolist()\n",
    "Hours = Data['Hours'].tolist()\n",
    "House_Demand = Data['House Demand (kWh)'].tolist()\n",
    "solar_CapFac = Data['Capacity factor solar'].tolist()                    \n",
    "\n",
    "print(Data.head(3))"
   ]
  },
  {
   "cell_type": "markdown",
   "metadata": {},
   "source": [
    "We have now imported the data and seperated it into useful lists. and are ready to tackle the first task. "
   ]
  },
  {
   "cell_type": "markdown",
   "metadata": {},
   "source": [
    "## Task A \n",
    "Determine the capacity of the PV panels that must be installed so that the annual electricity generated\n",
    "by them equals the annual electricity consumption. \n",
    "\n",
    "This is done by summing the average demand over the year and then "
   ]
  },
  {
   "cell_type": "code",
   "execution_count": 14,
   "metadata": {
    "scrolled": true
   },
   "outputs": [
    {
     "data": {
      "text/plain": [
       "nan"
      ]
     },
     "execution_count": 14,
     "metadata": {},
     "output_type": "execute_result"
    }
   ],
   "source": [
    "sumHD = numpy.sum(House_Demand) #kW\n",
    "\n",
    "avgCP = numpy.sum(solar_CapFac)/8760 \n",
    "\n",
    "pv = sumHD/avgCP \n"
   ]
  },
  {
   "cell_type": "markdown",
   "metadata": {},
   "source": [
    "Results look awefully large with a 2.4 Mw system "
   ]
  },
  {
   "cell_type": "code",
   "execution_count": null,
   "metadata": {},
   "outputs": [],
   "source": []
  },
  {
   "cell_type": "code",
   "execution_count": null,
   "metadata": {},
   "outputs": [],
   "source": []
  },
  {
   "cell_type": "code",
   "execution_count": null,
   "metadata": {},
   "outputs": [],
   "source": []
  }
 ],
 "metadata": {
  "kernelspec": {
   "display_name": "Python 3",
   "language": "python",
   "name": "python3"
  },
  "language_info": {
   "codemirror_mode": {
    "name": "ipython",
    "version": 3
   },
   "file_extension": ".py",
   "mimetype": "text/x-python",
   "name": "python",
   "nbconvert_exporter": "python",
   "pygments_lexer": "ipython3",
   "version": "3.7.7"
  }
 },
 "nbformat": 4,
 "nbformat_minor": 4
}
